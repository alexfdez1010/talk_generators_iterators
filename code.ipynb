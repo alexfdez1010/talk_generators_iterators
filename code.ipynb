{
 "cells": [
  {
   "cell_type": "markdown",
   "metadata": {},
   "source": [
    "# Generadores e iteradores"
   ]
  },
  {
   "cell_type": "markdown",
   "metadata": {},
   "source": [
    "Ejecutar la siguiente celda para realizar todas las importaciones necesarias para el correcto funcionamiento de las demás celdas. Las otras celdas se pueden ejecutar en cualquier orden, siempre y cuando se ejecute esta celda primero."
   ]
  },
  {
   "cell_type": "code",
   "execution_count": 4,
   "metadata": {},
   "outputs": [],
   "source": [
    "from typing import Iterable, Generator, Tuple, List, Dict, Any, Callable, T\n",
    "from collections.abc import Iterator"
   ]
  },
  {
   "cell_type": "markdown",
   "metadata": {},
   "source": [
    "## Código de las diapositivas"
   ]
  },
  {
   "cell_type": "markdown",
   "metadata": {},
   "source": [
    "Iterador de los cuadrados de todos los números naturales. Respecto a la diapositiva se ha añadido un límite en el número de iteraciones. Para evitar colapsar el ordenador."
   ]
  },
  {
   "cell_type": "code",
   "execution_count": null,
   "metadata": {},
   "outputs": [],
   "source": [
    "class SquareIterator(Iterator):\n",
    "    def __init__(self):\n",
    "        self.current = 1\n",
    "\n",
    "    def __iter__(self):\n",
    "        return self\n",
    "\n",
    "    def __next__(self) -> int:\n",
    "        self.current += 1\n",
    "        return self.current ** 2\n",
    "\n",
    "infinite_squares = SquareIterator()\n",
    "\n",
    "for i, square in enumerate(infinite_squares, 1):\n",
    "    print(f\"{i} -> {square}\")\n",
    "    if i == 10: # Para evitar que se ejecute infinitamente\n",
    "        break"
   ]
  },
  {
   "cell_type": "code",
   "execution_count": null,
   "metadata": {},
   "outputs": [],
   "source": [
    "class RangeIterator:\n",
    "    def __init__(self, start: int, stop: int, step: int = 1):\n",
    "        self.start, self.stop, self.step  = start, stop, step\n",
    "        self.current = start - step\n",
    "\n",
    "    def __iter__(self):\n",
    "        return self\n",
    "\n",
    "    def __next__(self) -> int:\n",
    "        self.current += self.step\n",
    "        if self.current >= self.stop:\n",
    "            raise StopIteration\n",
    "        return self.current\n",
    "\n",
    "for i in range(0, 5, 2):\n",
    "    print(i)"
   ]
  },
  {
   "cell_type": "code",
   "execution_count": null,
   "metadata": {},
   "outputs": [],
   "source": [
    "class EnumerateIterator:\n",
    "    def __init__(self, iterable: Iterable[T]):\n",
    "        self.iterable = iter(iterable)\n",
    "        self.index = -1\n",
    "\n",
    "    def __iter__(self):\n",
    "        return self\n",
    "\n",
    "    def __next__(self) -> Tuple[int, T]:\n",
    "        self.index += 1\n",
    "        value = next(self.iterable)\n",
    "        return self.index, value\n",
    "\n",
    "for index, value in EnumerateIterator(\"abc\"):\n",
    "    print(index, value)"
   ]
  },
  {
   "cell_type": "code",
   "execution_count": null,
   "metadata": {},
   "outputs": [],
   "source": [
    "class MapIterator:\n",
    "    def __init__(self, function: Callable[[T], Any], iterable: Iterable[T]):\n",
    "        self.function = function\n",
    "        self.iterable = iter(iterable)\n",
    "\n",
    "    def __iter__(self):\n",
    "        return self\n",
    "\n",
    "    def __next__(self) -> T:\n",
    "        value = next(self.iterable)\n",
    "        return self.function(value)\n",
    "\n",
    "for value in MapIterator(lambda x: x * 2, [1, 2, 3]):\n",
    "    print(value)"
   ]
  },
  {
   "cell_type": "code",
   "execution_count": null,
   "metadata": {},
   "outputs": [],
   "source": [
    "class FilterIterator:\n",
    "    def __init__(self, function: Callable[[T], bool], iterable: Iterable[T]):\n",
    "        self.function = function\n",
    "        self.iterable = iter(iterable)\n",
    "\n",
    "    def __iter__(self):\n",
    "        return self\n",
    "\n",
    "    def __next__(self) -> T:\n",
    "        while True:\n",
    "            value = next(self.iterable)\n",
    "            if self.function(value):\n",
    "                return value\n",
    "\n",
    "for value in FilterIterator(lambda x: x % 2 == 0, [1, 2, 3, 4]):\n",
    "    print(value)"
   ]
  },
  {
   "cell_type": "code",
   "execution_count": null,
   "metadata": {},
   "outputs": [],
   "source": [
    "class FibonacciIterator:\n",
    "    def __init__(self, max_value):\n",
    "        self.max_value = max_value\n",
    "        self.a, self.b = 0, 1\n",
    "\n",
    "    def __iter__(self):\n",
    "        return self\n",
    "\n",
    "    def __next__(self):\n",
    "        self.a, self.b = self.b, \\\n",
    "        self.a + self.b\n",
    "        if self.a > self.max_value:\n",
    "            raise StopIteration\n",
    "        return self.a\n",
    "\n",
    "for fib in FibonacciIterator(21):\n",
    "    print(i)"
   ]
  },
  {
   "cell_type": "code",
   "execution_count": null,
   "metadata": {},
   "outputs": [],
   "source": [
    "def fibonacci_generator(max_value: int) -> Generator[int, None, None]:\n",
    "    a, b = 0, 1\n",
    "    while a <= max_value:\n",
    "        yield a\n",
    "        a, b = b, a + b\n",
    "\n",
    "for fib in fibonacci_generator(21):\n",
    "    print(i)"
   ]
  },
  {
   "cell_type": "code",
   "execution_count": null,
   "metadata": {},
   "outputs": [],
   "source": [
    "squares_list = [x*x for x in range(1, 6)]\n",
    "print(squares_list)\n",
    "\n",
    "squares_gen = (x*x for x in range(1, 6))\n",
    "print(squares_gen)\n",
    "print(list(squares_gen))"
   ]
  },
  {
   "cell_type": "code",
   "execution_count": 1,
   "metadata": {},
   "outputs": [
    {
     "name": "stdout",
     "output_type": "stream",
     "text": [
      "Hello\n",
      "Received: World\n",
      "Hello\n",
      "Hello\n",
      "I have printed 3 times hello\n"
     ]
    }
   ],
   "source": [
    "def hello_n_times(n: int) -> Generator[str, str, str]:\n",
    "    \"\"\"\n",
    "    Generator that yields \"Hello\" n times and\n",
    "    returns the number of times it has yielded \"Hello\".\n",
    "    If a string is sent to the generator, it will be printed.\n",
    "\n",
    "    :param n: Number of times to yield \"Hello\"\n",
    "    :return: Number of times \"Hello\" was yielded\n",
    "    \"\"\"\n",
    "    for i in range(n):\n",
    "        received = yield \"Hello\"\n",
    "        if received: print(f\"Received: {received}\")\n",
    "    return f\"I have printed {n} times hello\"\n",
    "\n",
    "gen = hello_n_times(3)\n",
    "print(next(gen))\n",
    "print(gen.send(\"World\")) \n",
    "print(next(gen))  \n",
    "\n",
    "try:\n",
    "    next(gen)\n",
    "except StopIteration as e:\n",
    "    print(e.value)"
   ]
  },
  {
   "cell_type": "markdown",
   "metadata": {},
   "source": [
    "## Ejercicios"
   ]
  },
  {
   "cell_type": "markdown",
   "metadata": {},
   "source": [
    "Implementa el iterador `range` usando generadores"
   ]
  },
  {
   "cell_type": "code",
   "execution_count": null,
   "metadata": {},
   "outputs": [],
   "source": [
    "def range_generator(start: int, stop: int, step: int = 1) -> Generator[int, None, None]:\n",
    "    pass"
   ]
  },
  {
   "cell_type": "markdown",
   "metadata": {},
   "source": [
    "Implementa el iterador `enumerate` usando generadores."
   ]
  },
  {
   "cell_type": "code",
   "execution_count": 11,
   "metadata": {},
   "outputs": [],
   "source": [
    "def enumerate_generator(iterable: Iterable[T]) -> Generator[Tuple[int, T], None, None]:\n",
    "    pass"
   ]
  },
  {
   "cell_type": "markdown",
   "metadata": {},
   "source": [
    "Implementa el iterador `map` usando generadores."
   ]
  },
  {
   "cell_type": "code",
   "execution_count": 12,
   "metadata": {},
   "outputs": [],
   "source": [
    "def map_generator(func: Callable[[T], Any], iterable: Iterable[T]) -> Generator[Any, None, None]:\n",
    "    pass"
   ]
  },
  {
   "cell_type": "markdown",
   "metadata": {},
   "source": [
    "Implementa el iterador `filter` usando generadores."
   ]
  },
  {
   "cell_type": "code",
   "execution_count": 13,
   "metadata": {},
   "outputs": [],
   "source": [
    "def filter_generator(func: Callable[[T], bool], iterable: Iterable[T]) -> Generator[T, None, None]:\n",
    "    pass"
   ]
  },
  {
   "cell_type": "markdown",
   "metadata": {},
   "source": [
    "Implementa un generador que imprima los cubos de los primeros `n` números naturales. Pueda recibir mediante el método `send` un número `m` y continúe imprimiendo los cubos a partir de `m`. Al terminar devolverá la suma de los cubos de los números que imprimió."
   ]
  },
  {
   "cell_type": "code",
   "execution_count": 14,
   "metadata": {},
   "outputs": [],
   "source": [
    "def cube_generator() -> Generator[int, int, int]:\n",
    "    pass"
   ]
  },
  {
   "cell_type": "markdown",
   "metadata": {},
   "source": [
    "Ejercicio para nota. Implementa un generador que simulará un servicio web de login con tokens. Si el generador no recibe nada con el método `send` devolverá un token y almacenará el token en un conjunto. Si el generador recibe un token con el método `send` comprobará si el token está en el conjunto. Si está en el conjunto devolverá `Token válido` y si no está en el conjunto devolverá `Token inválido`. Al iniciar el generador se le pondrá un token inicial, si en el método send se le envía el token inicial devolverá `Hackeado` terminando la ejecución del generador."
   ]
  },
  {
   "cell_type": "code",
   "execution_count": null,
   "metadata": {},
   "outputs": [],
   "source": [
    "def web_service_generator(secret_token: str) -> Generator[str, str, str]:\n",
    "    pass"
   ]
  }
 ],
 "metadata": {
  "kernelspec": {
   "display_name": ".venv",
   "language": "python",
   "name": "python3"
  },
  "language_info": {
   "codemirror_mode": {
    "name": "ipython",
    "version": 3
   },
   "file_extension": ".py",
   "mimetype": "text/x-python",
   "name": "python",
   "nbconvert_exporter": "python",
   "pygments_lexer": "ipython3",
   "version": "3.11.5"
  }
 },
 "nbformat": 4,
 "nbformat_minor": 2
}
