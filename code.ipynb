{
 "cells": [
  {
   "cell_type": "code",
   "execution_count": 10,
   "metadata": {},
   "outputs": [],
   "source": [
    "from typing import Iterable, Generator, Tuple, List, Dict, Any, Callable, T"
   ]
  },
  {
   "cell_type": "code",
   "execution_count": 1,
   "metadata": {},
   "outputs": [
    {
     "name": "stdout",
     "output_type": "stream",
     "text": [
      "Hello\n",
      "Received: World\n",
      "Hello\n",
      "Hello\n",
      "I have printed 3 times hello\n"
     ]
    }
   ],
   "source": [
    "def hello_n_times(n):\n",
    "    for i in range(n):\n",
    "        received = yield \"Hello\"\n",
    "        if received: print(f\"Received: {received}\")\n",
    "    return f\"I have printed {n} times hello\"\n",
    "\n",
    "gen = hello_n_times(3)\n",
    "print(next(gen))\n",
    "print(gen.send(\"World\")) \n",
    "print(next(gen))  \n",
    "\n",
    "try:\n",
    "    next(gen)\n",
    "except StopIteration as e:\n",
    "    print(e.value)"
   ]
  },
  {
   "cell_type": "markdown",
   "metadata": {},
   "source": [
    "## Ejercicios"
   ]
  },
  {
   "cell_type": "markdown",
   "metadata": {},
   "source": [
    "Implementa el iterador `enumerate` usando generadores."
   ]
  },
  {
   "cell_type": "code",
   "execution_count": 11,
   "metadata": {},
   "outputs": [],
   "source": [
    "def enumerate_generator(iterable: Iterable[T]) -> Generator[Tuple[int, T], None, None]:\n",
    "    pass"
   ]
  },
  {
   "cell_type": "markdown",
   "metadata": {},
   "source": [
    "Implementa el iterador `map` usando generadores."
   ]
  },
  {
   "cell_type": "code",
   "execution_count": 12,
   "metadata": {},
   "outputs": [],
   "source": [
    "def map_generator(func: Callable[[T], Any], iterable: Iterable[T]) -> Generator[Any, None, None]:\n",
    "    pass"
   ]
  },
  {
   "cell_type": "markdown",
   "metadata": {},
   "source": [
    "Implementa el iterador `filter` usando generadores."
   ]
  },
  {
   "cell_type": "code",
   "execution_count": 13,
   "metadata": {},
   "outputs": [],
   "source": [
    "def filter_generator(func: Callable[[T], bool], iterable: Iterable[T]) -> Generator[T, None, None]:\n",
    "    pass"
   ]
  },
  {
   "cell_type": "markdown",
   "metadata": {},
   "source": [
    "Implementa un generador que imprima los cubos de los primeros `n` números naturales. Pueda recibir mediante el método `send` un número `m` y continúe imprimiendo los cubos a partir de `m`. Al terminar devolverá la suma de los cubos de los números que imprimió."
   ]
  },
  {
   "cell_type": "code",
   "execution_count": 14,
   "metadata": {},
   "outputs": [],
   "source": [
    "def cube_generator() -> Generator[int, int, int]:\n",
    "    pass"
   ]
  }
 ],
 "metadata": {
  "kernelspec": {
   "display_name": ".venv",
   "language": "python",
   "name": "python3"
  },
  "language_info": {
   "codemirror_mode": {
    "name": "ipython",
    "version": 3
   },
   "file_extension": ".py",
   "mimetype": "text/x-python",
   "name": "python",
   "nbconvert_exporter": "python",
   "pygments_lexer": "ipython3",
   "version": "3.11.5"
  }
 },
 "nbformat": 4,
 "nbformat_minor": 2
}
