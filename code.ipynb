{
 "cells": [
  {
   "cell_type": "markdown",
   "metadata": {},
   "source": [
    "# Generadores e iteradores"
   ]
  },
  {
   "cell_type": "markdown",
   "metadata": {},
   "source": [
    "Ejecutar la siguiente celda para realizar todas las importaciones necesarias para el correcto funcionamiento de las demás celdas. Las otras celdas se pueden ejecutar en cualquier orden, siempre y cuando se ejecute esta celda primero."
   ]
  },
  {
   "cell_type": "code",
   "execution_count": 2,
   "metadata": {},
   "outputs": [],
   "source": [
    "from typing import Iterable, Generator, Tuple, List, Dict, Any, Callable, T\n",
    "from collections.abc import Iterator"
   ]
  },
  {
   "cell_type": "markdown",
   "metadata": {},
   "source": [
    "## Código de las diapositivas"
   ]
  },
  {
   "cell_type": "code",
   "execution_count": 3,
   "metadata": {},
   "outputs": [
    {
     "name": "stdout",
     "output_type": "stream",
     "text": [
      "1 -> 4\n",
      "2 -> 9\n",
      "3 -> 16\n",
      "4 -> 25\n",
      "5 -> 36\n",
      "6 -> 49\n",
      "7 -> 64\n",
      "8 -> 81\n",
      "9 -> 100\n",
      "10 -> 121\n"
     ]
    }
   ],
   "source": [
    "# Definimos la clase SquareIterator, que es un tipo de iterador.\n",
    "class SquareIterator(Iterator):\n",
    "    def __init__(self):\n",
    "        self.current = 0  # Comienza en 1\n",
    "\n",
    "    # El método __iter__ debe retornar un objeto iterador. Aquí, 'self' es el iterador.\n",
    "    def __iter__(self):\n",
    "        return self\n",
    "\n",
    "    # El método __next__ define cómo avanza el iterador. En este caso, incrementa el número actual y devuelve su cuadrado.\n",
    "    def __next__(self) -> int:\n",
    "        self.current += 1\n",
    "        return self.current ** 2\n",
    "\n",
    "# Creamos una instancia del iterador SquareIterator.\n",
    "infinite_squares = SquareIterator()\n",
    "\n",
    "# Usamos un bucle for para iterar. Con enumerate obtenemos también un índice (i).\n",
    "for i, square in enumerate(infinite_squares, 1):\n",
    "    print(f\"{i} -> {square}\")\n",
    "    if i == 10: # Este if evita que el bucle se ejecute infinitamente.\n",
    "        break"
   ]
  },
  {
   "cell_type": "code",
   "execution_count": 4,
   "metadata": {},
   "outputs": [
    {
     "name": "stdout",
     "output_type": "stream",
     "text": [
      "0\n",
      "2\n",
      "4\n"
     ]
    }
   ],
   "source": [
    "# Definimos la clase RangeIterator.\n",
    "class RangeIterator:\n",
    "    def __init__(self, start: int, stop: int, step: int = 1):\n",
    "        # Inicializamos el iterador con los valores de inicio, fin y paso.\n",
    "        self.start, self.stop, self.step  = start, stop, step\n",
    "        # Establecemos el valor actual un paso antes del inicio para que el primer llamado a __next__ comience en 'start'.\n",
    "        self.current = start - step\n",
    "\n",
    "    # El método __iter__ debe retornar el objeto iterador. Aquí, 'self' es el iterador.\n",
    "    def __iter__(self):\n",
    "        return self\n",
    "\n",
    "    # El método __next__ avanza el iterador.\n",
    "    def __next__(self) -> int:\n",
    "        # Incrementamos el valor actual.\n",
    "        self.current += self.step\n",
    "        # Si el valor actual alcanza o supera 'stop', detenemos la iteración.\n",
    "        if self.current >= self.stop:\n",
    "            raise StopIteration\n",
    "        # Retornamos el valor actual.\n",
    "        return self.current\n",
    "\n",
    "for i in RangeIterator(0, 5, 2):\n",
    "    print(i)"
   ]
  },
  {
   "cell_type": "code",
   "execution_count": 5,
   "metadata": {},
   "outputs": [
    {
     "name": "stdout",
     "output_type": "stream",
     "text": [
      "0 a\n",
      "1 b\n",
      "2 c\n"
     ]
    }
   ],
   "source": [
    "# Definimos la clase EnumerateIterator\n",
    "class EnumerateIterator:\n",
    "    def __init__(self, iterable: Iterable[T]):\n",
    "        # Convertimos el iterable en un iterador\n",
    "        self.iterable = iter(iterable)\n",
    "        # Inicializamos el índice en -1 para que el primer elemento tenga índice 0\n",
    "        self.index = -1\n",
    "\n",
    "    # El método __iter__ debe retornar el objeto iterador. Aquí, 'self' es el iterador.\n",
    "    def __iter__(self):\n",
    "        return self\n",
    "\n",
    "    # El método __next__ avanza el iterador.\n",
    "    def __next__(self) -> Tuple[int, T]:\n",
    "        # Incrementamos el índice\n",
    "        self.index += 1\n",
    "        # Obtenemos el siguiente valor del iterable\n",
    "        value = next(self.iterable)\n",
    "        # Retornamos una tupla de índice y valor\n",
    "        return self.index, value\n",
    "\n",
    "# Usamos el iterador personalizado para iterar sobre una cadena\n",
    "for index, value in EnumerateIterator(\"abc\"):\n",
    "    print(index, value)"
   ]
  },
  {
   "cell_type": "code",
   "execution_count": 6,
   "metadata": {},
   "outputs": [
    {
     "name": "stdout",
     "output_type": "stream",
     "text": [
      "2\n",
      "4\n",
      "6\n"
     ]
    }
   ],
   "source": [
    "# Definimos la clase MapIterator\n",
    "class MapIterator:\n",
    "    def __init__(self, function: Callable[[T], Any], iterable: Iterable[T]):\n",
    "        # Guardamos la función y convertimos el iterable en un iterador\n",
    "        self.function = function\n",
    "        self.iterable = iter(iterable)\n",
    "\n",
    "    # El método __iter__ debe retornar el objeto iterador.\n",
    "    def __iter__(self):\n",
    "        return self\n",
    "\n",
    "    # El método __next__ avanza el iterador.\n",
    "    def __next__(self) -> T:\n",
    "        # Obtenemos el siguiente valor del iterable\n",
    "        value = next(self.iterable)\n",
    "        # Aplicamos la función al valor y lo retornamos\n",
    "        return self.function(value)\n",
    "\n",
    "# Usamos el MapIterator con una función lambda que duplica los valores\n",
    "for value in MapIterator(lambda x: x * 2, [1, 2, 3]):\n",
    "    print(value)"
   ]
  },
  {
   "cell_type": "code",
   "execution_count": null,
   "metadata": {},
   "outputs": [],
   "source": [
    "# Definimos la clase FilterIterator\n",
    "class FilterIterator:\n",
    "    def __init__(self, function: Callable[[T], bool], iterable: Iterable[T]):\n",
    "        # Guardamos la función de filtro y convertimos el iterable en un iterador\n",
    "        self.function = function\n",
    "        self.iterable = iter(iterable)\n",
    "\n",
    "    # El método __iter__ debe retornar el objeto iterador.\n",
    "    def __iter__(self):\n",
    "        return self\n",
    "\n",
    "    # El método __next__ avanza el iterador.\n",
    "    def __next__(self) -> T:\n",
    "        while True:\n",
    "            # Obtenemos el siguiente valor del iterable\n",
    "            value = next(self.iterable)\n",
    "            # Si el valor cumple la condición de la función, lo retornamos\n",
    "            if self.function(value):\n",
    "                return value\n",
    "\n",
    "# Usamos el FilterIterator con una función lambda que filtra los números pares\n",
    "for value in FilterIterator(lambda x: x % 2 == 0, [1, 2, 3, 4]):\n",
    "    print(value)"
   ]
  },
  {
   "cell_type": "code",
   "execution_count": 7,
   "metadata": {},
   "outputs": [
    {
     "name": "stdout",
     "output_type": "stream",
     "text": [
      "1\n",
      "1\n",
      "2\n",
      "3\n",
      "5\n",
      "8\n",
      "13\n",
      "21\n"
     ]
    }
   ],
   "source": [
    "# Definimos la clase FibonacciIterator\n",
    "class FibonacciIterator:\n",
    "    def __init__(self, max_value):\n",
    "        # Establecemos el valor máximo para la secuencia de Fibonacci\n",
    "        self.max_value = max_value\n",
    "        # Inicializamos los dos primeros números de la secuencia\n",
    "        self.a, self.b = 0, 1\n",
    "\n",
    "    # El método __iter__ debe retornar el objeto iterador.\n",
    "    def __iter__(self):\n",
    "        return self\n",
    "\n",
    "    # El método __next__ avanza el iterador.\n",
    "    def __next__(self):\n",
    "        # Calculamos el siguiente número de Fibonacci\n",
    "        self.a, self.b = self.b, self.a + self.b\n",
    "        # Si el número actual supera el valor máximo, detenemos la iteración\n",
    "        if self.a > self.max_value:\n",
    "            raise StopIteration\n",
    "        # Retornamos el número actual de la secuencia\n",
    "        return self.a\n",
    "\n",
    "# Usamos el FibonacciIterator en un bucle for\n",
    "for fib in FibonacciIterator(21):\n",
    "    print(fib) "
   ]
  },
  {
   "cell_type": "code",
   "execution_count": 8,
   "metadata": {},
   "outputs": [
    {
     "name": "stdout",
     "output_type": "stream",
     "text": [
      "0\n",
      "1\n",
      "1\n",
      "2\n",
      "3\n",
      "5\n",
      "8\n",
      "13\n",
      "21\n"
     ]
    }
   ],
   "source": [
    "def fibonacci_generator(max_value: int) -> Generator[int, None, None]:\n",
    "    a, b = 0, 1\n",
    "    # Continuamos generando números mientras no superen el valor máximo\n",
    "    while a <= max_value:\n",
    "        yield a  # 'yield' devuelve el valor de 'a' y pausa la ejecución aquí\n",
    "        a, b = b, a + b  # Calculamos el siguiente número de Fibonacci\n",
    "\n",
    "# Usamos el generador de Fibonacci en un bucle for\n",
    "for fib in fibonacci_generator(21):\n",
    "    print(fib) "
   ]
  },
  {
   "cell_type": "code",
   "execution_count": 9,
   "metadata": {},
   "outputs": [
    {
     "name": "stdout",
     "output_type": "stream",
     "text": [
      "[1, 4, 9, 16, 25]\n",
      "<generator object <genexpr> at 0x10419cd40>\n",
      "[1, 4, 9, 16, 25]\n"
     ]
    }
   ],
   "source": [
    "# Comprensión de lista para calcular los cuadrados\n",
    "squares_list = [x*x for x in range(1, 6)]\n",
    "# Esto genera una lista de cuadrados de los números del 1 al 5.\n",
    "print(squares_list)  # Salida: [1, 4, 9, 16, 25]\n",
    "\n",
    "# Comprensión de generador para calcular los cuadrados\n",
    "squares_gen = (x*x for x in range(1, 6))\n",
    "# Esto crea un generador que calculará los cuadrados de los números del 1 al 5 cuando se itere sobre él.\n",
    "print(squares_gen)  # Esto no imprimirá los cuadrados, sino el objeto generador en sí.\n",
    "\n",
    "# Convertimos el generador en una lista para ver sus elementos\n",
    "print(list(squares_gen))  # Salida: [1, 4, 9, 16, 25]"
   ]
  },
  {
   "cell_type": "code",
   "execution_count": 10,
   "metadata": {},
   "outputs": [
    {
     "name": "stdout",
     "output_type": "stream",
     "text": [
      "Hello\n",
      "Received: World\n",
      "Hello\n",
      "Hello\n",
      "I have printed 3 times hello\n"
     ]
    }
   ],
   "source": [
    "# Definimos un generador que interactúa con el llamador\n",
    "def hello_n_times(n: int) -> Generator[str, str, str]:\n",
    "    for i in range(n):\n",
    "        # Cada vez que se llama a 'yield', se produce un \"Hello\"\n",
    "        received = yield \"Hello\"\n",
    "        # Si se envía algo al generador, lo imprime\n",
    "        if received: print(f\"Received: {received}\")\n",
    "    # Cuando se termina, devuelve un mensaje final\n",
    "    return f\"I have printed {n} times hello\"\n",
    "\n",
    "# Creamos una instancia del generador\n",
    "gen = hello_n_times(3)\n",
    "\n",
    "# Obtenemos el primer valor del generador, que es \"Hello\"\n",
    "print(next(gen))  # Imprime \"Hello\"\n",
    "\n",
    "# Enviamos \"World\" al generador y obtenemos el siguiente \"Hello\"\n",
    "print(gen.send(\"World\"))  # Imprime \"Received: World\" y luego \"Hello\"\n",
    "\n",
    "# Obtenemos el siguiente valor del generador, que es otro \"Hello\"\n",
    "print(next(gen))  # Imprime \"Hello\"\n",
    "\n",
    "# Intentamos obtener otro valor, pero el generador ya ha terminado\n",
    "try:\n",
    "    next(gen)\n",
    "except StopIteration as e:\n",
    "    # Capturamos la excepción StopIteration y mostramos su mensaje\n",
    "    print(e.value)  # Imprime \"I have printed 3 times hello\""
   ]
  },
  {
   "cell_type": "markdown",
   "metadata": {},
   "source": [
    "## Ejercicios"
   ]
  },
  {
   "cell_type": "markdown",
   "metadata": {},
   "source": [
    "Implementa el iterador `range` usando generadores"
   ]
  },
  {
   "cell_type": "code",
   "execution_count": null,
   "metadata": {},
   "outputs": [],
   "source": [
    "def range_generator(start: int, stop: int, step: int = 1) -> Generator[int, None, None]:\n",
    "    pass"
   ]
  },
  {
   "cell_type": "markdown",
   "metadata": {},
   "source": [
    "Implementa el iterador `enumerate` usando generadores."
   ]
  },
  {
   "cell_type": "code",
   "execution_count": 11,
   "metadata": {},
   "outputs": [],
   "source": [
    "def enumerate_generator(iterable: Iterable[T]) -> Generator[Tuple[int, T], None, None]:\n",
    "    pass"
   ]
  },
  {
   "cell_type": "markdown",
   "metadata": {},
   "source": [
    "Implementa el iterador `map` usando generadores."
   ]
  },
  {
   "cell_type": "code",
   "execution_count": 12,
   "metadata": {},
   "outputs": [],
   "source": [
    "def map_generator(func: Callable[[T], Any], iterable: Iterable[T]) -> Generator[Any, None, None]:\n",
    "    pass"
   ]
  },
  {
   "cell_type": "markdown",
   "metadata": {},
   "source": [
    "Implementa el iterador `filter` usando generadores."
   ]
  },
  {
   "cell_type": "code",
   "execution_count": 13,
   "metadata": {},
   "outputs": [],
   "source": [
    "def filter_generator(func: Callable[[T], bool], iterable: Iterable[T]) -> Generator[T, None, None]:\n",
    "    pass"
   ]
  },
  {
   "cell_type": "markdown",
   "metadata": {},
   "source": [
    "Implementa un generador que imprima los cubos de los primeros `n` números naturales. Pueda recibir mediante el método `send` un número `m` y continúe imprimiendo los cubos a partir de `m`. Al terminar devolverá la suma de los cubos de los números que imprimió."
   ]
  },
  {
   "cell_type": "code",
   "execution_count": 14,
   "metadata": {},
   "outputs": [],
   "source": [
    "def cube_generator() -> Generator[int, int, int]:\n",
    "    pass"
   ]
  },
  {
   "cell_type": "markdown",
   "metadata": {},
   "source": [
    "Ejercicio para nota. Implementa un generador que simulará un servicio web de login con tokens. Si el generador no recibe nada con el método `send` devolverá un token y almacenará el token en un conjunto. Si el generador recibe un token con el método `send` comprobará si el token está en el conjunto. Si está en el conjunto devolverá `Token válido` y si no está en el conjunto devolverá `Token inválido`. Al iniciar el generador se le pondrá un token inicial, si en el método send se le envía el token inicial devolverá `Hackeado` terminando la ejecución del generador."
   ]
  },
  {
   "cell_type": "code",
   "execution_count": null,
   "metadata": {},
   "outputs": [],
   "source": [
    "def web_service_generator(secret_token: str) -> Generator[str, str, str]:\n",
    "    pass"
   ]
  }
 ],
 "metadata": {
  "kernelspec": {
   "display_name": ".venv",
   "language": "python",
   "name": "python3"
  },
  "language_info": {
   "codemirror_mode": {
    "name": "ipython",
    "version": 3
   },
   "file_extension": ".py",
   "mimetype": "text/x-python",
   "name": "python",
   "nbconvert_exporter": "python",
   "pygments_lexer": "ipython3",
   "version": "3.11.6"
  }
 },
 "nbformat": 4,
 "nbformat_minor": 2
}
